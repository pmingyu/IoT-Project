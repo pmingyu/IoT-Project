{
 "cells": [
  {
   "cell_type": "code",
   "execution_count": 1,
   "id": "3b577660",
   "metadata": {
    "ExecuteTime": {
     "end_time": "2022-11-10T05:09:43.121172Z",
     "start_time": "2022-11-10T05:09:40.575402Z"
    }
   },
   "outputs": [],
   "source": [
    "import sqlalchemy\n",
    "import pandas as pd\n",
    "import numpy as np\n",
    "import plotly.express as px\n",
    "from sklearn.ensemble import IsolationForest\n",
    "from sklearn.cluster import KMeans\n",
    "from sklearn.metrics import silhouette_score\n",
    "import shap\n",
    "\n",
    "from datetime import datetime\n",
    "import pytz\n",
    "from tqdm import tqdm\n",
    "import pickle\n",
    "import random\n"
   ]
  },
  {
   "cell_type": "code",
   "execution_count": 2,
   "id": "9b609719",
   "metadata": {
    "ExecuteTime": {
     "end_time": "2022-11-10T05:09:43.823989Z",
     "start_time": "2022-11-10T05:09:43.123791Z"
    }
   },
   "outputs": [],
   "source": [
    "df = pd.read_csv('Bulk_Carrier_202001_202006.csv')"
   ]
  },
  {
   "cell_type": "code",
   "execution_count": 3,
   "id": "55045901",
   "metadata": {
    "ExecuteTime": {
     "end_time": "2022-11-10T05:09:43.846714Z",
     "start_time": "2022-11-10T05:09:43.825681Z"
    }
   },
   "outputs": [],
   "source": [
    "df['TIME_STAMP'] = pd.to_datetime(df['TIME_STAMP']).dt.tz_localize(None)"
   ]
  },
  {
   "cell_type": "markdown",
   "id": "99e9db35",
   "metadata": {},
   "source": [
    "# Get last period of data"
   ]
  },
  {
   "cell_type": "code",
   "execution_count": 4,
   "id": "61bbee95",
   "metadata": {
    "ExecuteTime": {
     "end_time": "2022-11-10T05:09:43.867322Z",
     "start_time": "2022-11-10T05:09:43.848072Z"
    }
   },
   "outputs": [],
   "source": [
    "# by interval\n",
    "interval_day = 180\n",
    "# dff = df.iloc[-interval_day:]\n",
    "\n",
    "# full dataset\n",
    "dff = df.copy()"
   ]
  },
  {
   "cell_type": "markdown",
   "id": "018765bc",
   "metadata": {},
   "source": [
    "# Preprocessing"
   ]
  },
  {
   "cell_type": "code",
   "execution_count": 5,
   "id": "19d51c0c",
   "metadata": {
    "ExecuteTime": {
     "end_time": "2022-11-10T05:09:43.907166Z",
     "start_time": "2022-11-10T05:09:43.868796Z"
    }
   },
   "outputs": [],
   "source": [
    "me1 = [i for i in dff.columns if i.startswith('ME1')]\n",
    "me1 = [i for i in me1 if not i.endswith('ECC')]\n",
    "\n",
    "to_exclude = ['ME1_FO_FLOW_HOUR_INLET',\n",
    "            'ME1_FO_DENSITY_INLET',\n",
    "            'ME1_FO_TEMP_INLET',\n",
    "            'ME1_FO_TOTALIZER_INLET']\n",
    "\n",
    "\n",
    "me1 = [i for i in me1 if i not in to_exclude]\n",
    "me2 = ['SPEED_VG','lon','lat','TIME_STAMP']\n",
    "\n",
    "\n",
    "df2=pd.concat([dff[me1], dff[me2]], axis=1)\n",
    "df2 = df2.loc[:,~df2 .columns.duplicated()]\n",
    "\n",
    "# Filter Value\n",
    "df3=df2[(df2['ME1_RPM']>0) & (df2['ME1_SCAV_AIR_PRESS']>0) & (df2['ME1_LO_INLET_PRESS']>0) & (df2['ME1_FOC']>0)]\n",
    "df3=df3[(df3['ME1_RPM']>df3['ME1_RPM'].describe()['75%']) & (df3['SPEED_VG'] > 14)]\n",
    "\n",
    "# Aggregating Cylinders Variable (Averaging)\n",
    "pco=[i for i in df3.columns if 'PCO' in i]\n",
    "cfw=[i for i in df3.columns if 'CFW' in i]\n",
    "exh=[i for i in df3.columns if 'EXH' in i]\n",
    "df3['ME1_CYL_PCO_OUTLET_TEMP']=df3[pco].mean(axis=1)\n",
    "df3['ME1_CYL_CFW_OUTLET_TEMP']=df3[cfw].mean(axis=1)\n",
    "df3['ME1_CYL_EXH_GAS_OUTLET_TEMP']=df3[exh].mean(axis=1)\n",
    "df3 = df3.drop(pco+cfw+exh,axis=1)\n",
    "\n",
    "df4 = df3.drop(['SPEED_VG','lon','lat','TIME_STAMP'],axis=1).copy()"
   ]
  },
  {
   "cell_type": "markdown",
   "id": "b3c2e88b",
   "metadata": {},
   "source": [
    "# Isolation Forest"
   ]
  },
  {
   "cell_type": "code",
   "execution_count": 6,
   "id": "ce2da98c",
   "metadata": {
    "ExecuteTime": {
     "end_time": "2022-11-10T05:09:44.187651Z",
     "start_time": "2022-11-10T05:09:43.908676Z"
    }
   },
   "outputs": [],
   "source": [
    "iso = IsolationForest(random_state=4)\n",
    "iso.fit(df4)\n",
    "iso_score=iso.score_samples(df4)"
   ]
  },
  {
   "cell_type": "markdown",
   "id": "bddbacd0",
   "metadata": {},
   "source": [
    "# SHAP "
   ]
  },
  {
   "cell_type": "code",
   "execution_count": 7,
   "id": "73e14999",
   "metadata": {
    "ExecuteTime": {
     "end_time": "2022-11-10T05:10:02.342524Z",
     "start_time": "2022-11-10T05:09:44.190078Z"
    }
   },
   "outputs": [
    {
     "name": "stderr",
     "output_type": "stream",
     "text": [
      " 98%|===================| 2175/2222 [00:18<00:00]        "
     ]
    }
   ],
   "source": [
    "# SHAP Explainer\n",
    "explainer = shap.TreeExplainer(iso,data=df4)\n",
    "#Calculate shap with shap_values method\n",
    "shap_values = explainer.shap_values(df4,check_additivity=True)\n",
    "dfShap = pd.DataFrame(shap_values,columns=df4.columns,index=df4.index)\n",
    "\n",
    "dfShap_temp = dfShap[:].copy()\n",
    "dfShap_temp['ISO_SCORE'] = iso_score"
   ]
  },
  {
   "cell_type": "markdown",
   "id": "74193e70",
   "metadata": {},
   "source": [
    "# Automatic Clustering"
   ]
  },
  {
   "cell_type": "code",
   "execution_count": 8,
   "id": "141d3638",
   "metadata": {
    "ExecuteTime": {
     "end_time": "2022-11-10T05:10:02.348172Z",
     "start_time": "2022-11-10T05:10:02.344930Z"
    }
   },
   "outputs": [],
   "source": [
    "MIN_CLUSTER = 2\n",
    "MAX_CLUSTER = 8"
   ]
  },
  {
   "cell_type": "code",
   "execution_count": 9,
   "id": "224c2868",
   "metadata": {
    "ExecuteTime": {
     "end_time": "2022-11-10T05:10:43.978336Z",
     "start_time": "2022-11-10T05:10:02.349641Z"
    }
   },
   "outputs": [
    {
     "name": "stderr",
     "output_type": "stream",
     "text": [
      "100%|██████████| 7/7 [00:36<00:00,  5.21s/it]\n"
     ]
    }
   ],
   "source": [
    "fixed_th = np.quantile(dfShap_temp['ISO_SCORE'],0.075)\n",
    "dfShap_temp1 = dfShap_temp[dfShap_temp['ISO_SCORE'] <= fixed_th].drop(['ISO_SCORE'],axis=1)\n",
    "dfShap_temp2 = dfShap_temp[dfShap_temp['ISO_SCORE'] > fixed_th].drop(['ISO_SCORE'],axis=1)\n",
    "        \n",
    "\n",
    "def auto_cluster(df_shap, min_cluster, max_cluster):\n",
    "    num_class = 0\n",
    "    sil_score = 0\n",
    "\n",
    "    if len(df_shap) >= 3 :\n",
    "        for num_cluss in tqdm(range(min_cluster,max_cluster+1)):\n",
    "            kms_mod = KMeans(n_clusters=num_cluss,random_state=42)\n",
    "            labels_test = kms_mod.fit_predict(df_shap)\n",
    "            centroids_test = kms_mod.cluster_centers_\n",
    "            silhouette_avg = silhouette_score(df_shap, labels_test)\n",
    "            if silhouette_avg > sil_score :\n",
    "                sil_score = silhouette_avg\n",
    "                num_class = num_cluss\n",
    "            else :\n",
    "                pass \n",
    "    else :\n",
    "        num_class = 1   \n",
    "\n",
    "    # ---- Start Model with Best Num Clus\n",
    "    kms_mod = KMeans(n_clusters=num_class,random_state=42)\n",
    "    labels_test = kms_mod.fit_predict(df_shap)\n",
    "    centroids_test = kms_mod.cluster_centers_\n",
    "\n",
    "    return labels_test, centroids_test, kms_mod\n",
    "\n",
    "labels_cluster, centroids_cluster, model_cluster =  auto_cluster(dfShap_temp1, MIN_CLUSTER, MAX_CLUSTER)\n",
    "\n",
    "dfShap_temp1['CLUSTER'] = labels_cluster\n",
    "dfShap_temp2['CLUSTER'] = np.nan\n",
    "\n",
    "dfShap = pd.concat([dfShap_temp1, dfShap_temp2])"
   ]
  },
  {
   "cell_type": "markdown",
   "id": "fe8cecd3",
   "metadata": {},
   "source": [
    "# Datamart"
   ]
  },
  {
   "cell_type": "code",
   "execution_count": 10,
   "id": "0a802469",
   "metadata": {
    "ExecuteTime": {
     "end_time": "2022-11-10T05:10:44.175931Z",
     "start_time": "2022-11-10T05:10:44.014966Z"
    }
   },
   "outputs": [],
   "source": [
    "# datamart creation\n",
    "datamart = df3.join(dfShap, rsuffix='_SHAP') \n",
    "datamart['ISO_SCORE'] = iso_score\n",
    "datamart = datamart[datamart.columns.difference(df2.columns)]\n",
    "\n",
    "\n",
    "datamart = df2.join(datamart)\n",
    "datamart['INGESTION_DT'] = dff['TIME_STAMP']"
   ]
  },
  {
   "cell_type": "code",
   "execution_count": 11,
   "id": "279b8413",
   "metadata": {
    "ExecuteTime": {
     "end_time": "2022-11-10T05:10:44.208066Z",
     "start_time": "2022-11-10T05:10:44.177341Z"
    }
   },
   "outputs": [
    {
     "data": {
      "text/html": [
       "<div>\n",
       "<style scoped>\n",
       "    .dataframe tbody tr th:only-of-type {\n",
       "        vertical-align: middle;\n",
       "    }\n",
       "\n",
       "    .dataframe tbody tr th {\n",
       "        vertical-align: top;\n",
       "    }\n",
       "\n",
       "    .dataframe thead th {\n",
       "        text-align: right;\n",
       "    }\n",
       "</style>\n",
       "<table border=\"1\" class=\"dataframe\">\n",
       "  <thead>\n",
       "    <tr style=\"text-align: right;\">\n",
       "      <th></th>\n",
       "      <th>ME1_RPM</th>\n",
       "      <th>ME1_RPM_SHAFT</th>\n",
       "      <th>ME1_SHAFT_POWER</th>\n",
       "      <th>ME1_SHAFT_TORQUE</th>\n",
       "      <th>ME1_SHAFT_THRUST</th>\n",
       "      <th>ME1_FO_INLET_PRESS</th>\n",
       "      <th>ME1_FO_INLET_TEMP</th>\n",
       "      <th>ME1_JCW_INLET_TEMP</th>\n",
       "      <th>ME1_JCW_INLET_PRESS</th>\n",
       "      <th>ME1_CYL1_CFW_OUTLET_TEMP</th>\n",
       "      <th>...</th>\n",
       "      <th>ME1_SHAFT_THRUST_SHAP</th>\n",
       "      <th>ME1_SHAFT_TORQUE_SHAP</th>\n",
       "      <th>ME1_TC1_LO_INLET_PRESS_SHAP</th>\n",
       "      <th>ME1_TC1_LO_OUTLET_TEMP_SHAP</th>\n",
       "      <th>ME1_TC1_RPM_SHAP</th>\n",
       "      <th>ME1_TC2_LO_INLET_PRESS_SHAP</th>\n",
       "      <th>ME1_TC2_LO_OUTLET_TEMP_SHAP</th>\n",
       "      <th>ME1_TC2_RPM_SHAP</th>\n",
       "      <th>ME1_THRUST_PAD_TEMP_SHAP</th>\n",
       "      <th>INGESTION_DT</th>\n",
       "    </tr>\n",
       "  </thead>\n",
       "  <tbody>\n",
       "    <tr>\n",
       "      <th>0</th>\n",
       "      <td>51.060</td>\n",
       "      <td>50.9</td>\n",
       "      <td>0.0</td>\n",
       "      <td>0.0</td>\n",
       "      <td>2220.0</td>\n",
       "      <td>7.686</td>\n",
       "      <td>134.763</td>\n",
       "      <td>78.115</td>\n",
       "      <td>4.352</td>\n",
       "      <td>119.036</td>\n",
       "      <td>...</td>\n",
       "      <td>NaN</td>\n",
       "      <td>NaN</td>\n",
       "      <td>NaN</td>\n",
       "      <td>NaN</td>\n",
       "      <td>NaN</td>\n",
       "      <td>NaN</td>\n",
       "      <td>NaN</td>\n",
       "      <td>NaN</td>\n",
       "      <td>NaN</td>\n",
       "      <td>2020-01-01 00:00:00</td>\n",
       "    </tr>\n",
       "    <tr>\n",
       "      <th>1</th>\n",
       "      <td>50.970</td>\n",
       "      <td>50.9</td>\n",
       "      <td>0.0</td>\n",
       "      <td>0.0</td>\n",
       "      <td>2220.0</td>\n",
       "      <td>7.687</td>\n",
       "      <td>133.605</td>\n",
       "      <td>77.957</td>\n",
       "      <td>4.340</td>\n",
       "      <td>119.012</td>\n",
       "      <td>...</td>\n",
       "      <td>NaN</td>\n",
       "      <td>NaN</td>\n",
       "      <td>NaN</td>\n",
       "      <td>NaN</td>\n",
       "      <td>NaN</td>\n",
       "      <td>NaN</td>\n",
       "      <td>NaN</td>\n",
       "      <td>NaN</td>\n",
       "      <td>NaN</td>\n",
       "      <td>2020-01-01 00:10:00</td>\n",
       "    </tr>\n",
       "    <tr>\n",
       "      <th>2</th>\n",
       "      <td>51.120</td>\n",
       "      <td>50.9</td>\n",
       "      <td>0.0</td>\n",
       "      <td>0.0</td>\n",
       "      <td>2220.0</td>\n",
       "      <td>7.697</td>\n",
       "      <td>135.074</td>\n",
       "      <td>78.249</td>\n",
       "      <td>4.356</td>\n",
       "      <td>119.076</td>\n",
       "      <td>...</td>\n",
       "      <td>NaN</td>\n",
       "      <td>NaN</td>\n",
       "      <td>NaN</td>\n",
       "      <td>NaN</td>\n",
       "      <td>NaN</td>\n",
       "      <td>NaN</td>\n",
       "      <td>NaN</td>\n",
       "      <td>NaN</td>\n",
       "      <td>NaN</td>\n",
       "      <td>2020-01-01 00:20:00</td>\n",
       "    </tr>\n",
       "    <tr>\n",
       "      <th>3</th>\n",
       "      <td>54.042</td>\n",
       "      <td>50.9</td>\n",
       "      <td>0.0</td>\n",
       "      <td>0.0</td>\n",
       "      <td>2220.0</td>\n",
       "      <td>7.637</td>\n",
       "      <td>135.089</td>\n",
       "      <td>77.434</td>\n",
       "      <td>4.355</td>\n",
       "      <td>118.808</td>\n",
       "      <td>...</td>\n",
       "      <td>NaN</td>\n",
       "      <td>NaN</td>\n",
       "      <td>NaN</td>\n",
       "      <td>NaN</td>\n",
       "      <td>NaN</td>\n",
       "      <td>NaN</td>\n",
       "      <td>NaN</td>\n",
       "      <td>NaN</td>\n",
       "      <td>NaN</td>\n",
       "      <td>2020-01-01 00:30:00</td>\n",
       "    </tr>\n",
       "    <tr>\n",
       "      <th>4</th>\n",
       "      <td>56.376</td>\n",
       "      <td>50.9</td>\n",
       "      <td>0.0</td>\n",
       "      <td>0.0</td>\n",
       "      <td>2220.0</td>\n",
       "      <td>7.593</td>\n",
       "      <td>135.735</td>\n",
       "      <td>77.107</td>\n",
       "      <td>4.355</td>\n",
       "      <td>117.144</td>\n",
       "      <td>...</td>\n",
       "      <td>NaN</td>\n",
       "      <td>NaN</td>\n",
       "      <td>NaN</td>\n",
       "      <td>NaN</td>\n",
       "      <td>NaN</td>\n",
       "      <td>NaN</td>\n",
       "      <td>NaN</td>\n",
       "      <td>NaN</td>\n",
       "      <td>NaN</td>\n",
       "      <td>2020-01-01 00:40:00</td>\n",
       "    </tr>\n",
       "  </tbody>\n",
       "</table>\n",
       "<p>5 rows × 91 columns</p>\n",
       "</div>"
      ],
      "text/plain": [
       "   ME1_RPM  ME1_RPM_SHAFT  ME1_SHAFT_POWER  ME1_SHAFT_TORQUE  \\\n",
       "0   51.060           50.9              0.0               0.0   \n",
       "1   50.970           50.9              0.0               0.0   \n",
       "2   51.120           50.9              0.0               0.0   \n",
       "3   54.042           50.9              0.0               0.0   \n",
       "4   56.376           50.9              0.0               0.0   \n",
       "\n",
       "   ME1_SHAFT_THRUST  ME1_FO_INLET_PRESS  ME1_FO_INLET_TEMP  \\\n",
       "0            2220.0               7.686            134.763   \n",
       "1            2220.0               7.687            133.605   \n",
       "2            2220.0               7.697            135.074   \n",
       "3            2220.0               7.637            135.089   \n",
       "4            2220.0               7.593            135.735   \n",
       "\n",
       "   ME1_JCW_INLET_TEMP  ME1_JCW_INLET_PRESS  ME1_CYL1_CFW_OUTLET_TEMP  ...  \\\n",
       "0              78.115                4.352                   119.036  ...   \n",
       "1              77.957                4.340                   119.012  ...   \n",
       "2              78.249                4.356                   119.076  ...   \n",
       "3              77.434                4.355                   118.808  ...   \n",
       "4              77.107                4.355                   117.144  ...   \n",
       "\n",
       "   ME1_SHAFT_THRUST_SHAP  ME1_SHAFT_TORQUE_SHAP  ME1_TC1_LO_INLET_PRESS_SHAP  \\\n",
       "0                    NaN                    NaN                          NaN   \n",
       "1                    NaN                    NaN                          NaN   \n",
       "2                    NaN                    NaN                          NaN   \n",
       "3                    NaN                    NaN                          NaN   \n",
       "4                    NaN                    NaN                          NaN   \n",
       "\n",
       "   ME1_TC1_LO_OUTLET_TEMP_SHAP  ME1_TC1_RPM_SHAP  ME1_TC2_LO_INLET_PRESS_SHAP  \\\n",
       "0                          NaN               NaN                          NaN   \n",
       "1                          NaN               NaN                          NaN   \n",
       "2                          NaN               NaN                          NaN   \n",
       "3                          NaN               NaN                          NaN   \n",
       "4                          NaN               NaN                          NaN   \n",
       "\n",
       "   ME1_TC2_LO_OUTLET_TEMP_SHAP  ME1_TC2_RPM_SHAP  ME1_THRUST_PAD_TEMP_SHAP  \\\n",
       "0                          NaN               NaN                       NaN   \n",
       "1                          NaN               NaN                       NaN   \n",
       "2                          NaN               NaN                       NaN   \n",
       "3                          NaN               NaN                       NaN   \n",
       "4                          NaN               NaN                       NaN   \n",
       "\n",
       "         INGESTION_DT  \n",
       "0 2020-01-01 00:00:00  \n",
       "1 2020-01-01 00:10:00  \n",
       "2 2020-01-01 00:20:00  \n",
       "3 2020-01-01 00:30:00  \n",
       "4 2020-01-01 00:40:00  \n",
       "\n",
       "[5 rows x 91 columns]"
      ]
     },
     "execution_count": 11,
     "metadata": {},
     "output_type": "execute_result"
    }
   ],
   "source": [
    "datamart.head()"
   ]
  },
  {
   "cell_type": "code",
   "execution_count": null,
   "id": "9b2c1132",
   "metadata": {},
   "outputs": [],
   "source": []
  }
 ],
 "metadata": {
  "kernelspec": {
   "display_name": "Python 3",
   "language": "python",
   "name": "python3"
  },
  "language_info": {
   "codemirror_mode": {
    "name": "ipython",
    "version": 3
   },
   "file_extension": ".py",
   "mimetype": "text/x-python",
   "name": "python",
   "nbconvert_exporter": "python",
   "pygments_lexer": "ipython3",
   "version": "3.8.10"
  },
  "toc": {
   "base_numbering": 1,
   "nav_menu": {},
   "number_sections": false,
   "sideBar": true,
   "skip_h1_title": false,
   "title_cell": "Table of Contents",
   "title_sidebar": "Contents",
   "toc_cell": false,
   "toc_position": {},
   "toc_section_display": true,
   "toc_window_display": false
  }
 },
 "nbformat": 4,
 "nbformat_minor": 5
}
